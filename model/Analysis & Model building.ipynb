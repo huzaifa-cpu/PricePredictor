{
 "cells": [
  {
   "cell_type": "code",
   "execution_count": 721,
   "id": "627a9fd5",
   "metadata": {},
   "outputs": [],
   "source": [
    "import numpy as np\n",
    "import pandas as pd\n",
    "import seaborn as sns\n",
    "import matplotlib.pyplot as plt\n",
    "%matplotlib inline"
   ]
  },
  {
   "cell_type": "code",
   "execution_count": 722,
   "id": "f5a44216",
   "metadata": {},
   "outputs": [
    {
     "data": {
      "text/html": [
       "<div>\n",
       "<style scoped>\n",
       "    .dataframe tbody tr th:only-of-type {\n",
       "        vertical-align: middle;\n",
       "    }\n",
       "\n",
       "    .dataframe tbody tr th {\n",
       "        vertical-align: top;\n",
       "    }\n",
       "\n",
       "    .dataframe thead th {\n",
       "        text-align: right;\n",
       "    }\n",
       "</style>\n",
       "<table border=\"1\" class=\"dataframe\">\n",
       "  <thead>\n",
       "    <tr style=\"text-align: right;\">\n",
       "      <th></th>\n",
       "      <th>make</th>\n",
       "      <th>model</th>\n",
       "      <th>city</th>\n",
       "      <th>price</th>\n",
       "      <th>year</th>\n",
       "      <th>km</th>\n",
       "      <th>type</th>\n",
       "      <th>cc</th>\n",
       "      <th>mode</th>\n",
       "    </tr>\n",
       "  </thead>\n",
       "  <tbody>\n",
       "    <tr>\n",
       "      <th>0</th>\n",
       "      <td>Toyota</td>\n",
       "      <td>Vitz</td>\n",
       "      <td>Karachi</td>\n",
       "      <td>26.30</td>\n",
       "      <td>2018</td>\n",
       "      <td>26,000</td>\n",
       "      <td>Petrol</td>\n",
       "      <td>1000</td>\n",
       "      <td>Automatic</td>\n",
       "    </tr>\n",
       "    <tr>\n",
       "      <th>1</th>\n",
       "      <td>Toyota</td>\n",
       "      <td>Vitz</td>\n",
       "      <td>Lahore</td>\n",
       "      <td>21.50</td>\n",
       "      <td>2014</td>\n",
       "      <td>115,000</td>\n",
       "      <td>Petrol</td>\n",
       "      <td>1000</td>\n",
       "      <td>Automatic</td>\n",
       "    </tr>\n",
       "    <tr>\n",
       "      <th>2</th>\n",
       "      <td>Toyota</td>\n",
       "      <td>Prado</td>\n",
       "      <td>Lahore</td>\n",
       "      <td>1.34</td>\n",
       "      <td>2012</td>\n",
       "      <td>84,000</td>\n",
       "      <td>Petrol</td>\n",
       "      <td>2700</td>\n",
       "      <td>Automatic</td>\n",
       "    </tr>\n",
       "    <tr>\n",
       "      <th>3</th>\n",
       "      <td>Toyota</td>\n",
       "      <td>Vitz</td>\n",
       "      <td>Karachi</td>\n",
       "      <td>NaN</td>\n",
       "      <td>2014</td>\n",
       "      <td>71,863</td>\n",
       "      <td>Petrol</td>\n",
       "      <td>1000</td>\n",
       "      <td>Automatic</td>\n",
       "    </tr>\n",
       "    <tr>\n",
       "      <th>4</th>\n",
       "      <td>Toyota</td>\n",
       "      <td>Fortuner</td>\n",
       "      <td>Karachi</td>\n",
       "      <td>63.00</td>\n",
       "      <td>2016</td>\n",
       "      <td>74,110</td>\n",
       "      <td>Petrol</td>\n",
       "      <td>2700</td>\n",
       "      <td>Automatic</td>\n",
       "    </tr>\n",
       "  </tbody>\n",
       "</table>\n",
       "</div>"
      ],
      "text/plain": [
       "     make     model     city  price  year       km    type    cc       mode\n",
       "0  Toyota      Vitz  Karachi  26.30  2018   26,000  Petrol  1000  Automatic\n",
       "1  Toyota      Vitz   Lahore  21.50  2014  115,000  Petrol  1000  Automatic\n",
       "2  Toyota     Prado   Lahore   1.34  2012   84,000  Petrol  2700  Automatic\n",
       "3  Toyota      Vitz  Karachi    NaN  2014   71,863  Petrol  1000  Automatic\n",
       "4  Toyota  Fortuner  Karachi  63.00  2016   74,110  Petrol  2700  Automatic"
      ]
     },
     "execution_count": 722,
     "metadata": {},
     "output_type": "execute_result"
    }
   ],
   "source": [
    "df = pd.read_csv('three.csv')\n",
    "df.head()"
   ]
  },
  {
   "cell_type": "code",
   "execution_count": 723,
   "id": "020a6298",
   "metadata": {},
   "outputs": [
    {
     "data": {
      "text/html": [
       "<div>\n",
       "<style scoped>\n",
       "    .dataframe tbody tr th:only-of-type {\n",
       "        vertical-align: middle;\n",
       "    }\n",
       "\n",
       "    .dataframe tbody tr th {\n",
       "        vertical-align: top;\n",
       "    }\n",
       "\n",
       "    .dataframe thead th {\n",
       "        text-align: right;\n",
       "    }\n",
       "</style>\n",
       "<table border=\"1\" class=\"dataframe\">\n",
       "  <thead>\n",
       "    <tr style=\"text-align: right;\">\n",
       "      <th></th>\n",
       "      <th>make</th>\n",
       "      <th>model</th>\n",
       "      <th>city</th>\n",
       "      <th>price</th>\n",
       "      <th>year</th>\n",
       "      <th>km</th>\n",
       "      <th>type</th>\n",
       "      <th>cc</th>\n",
       "      <th>mode</th>\n",
       "    </tr>\n",
       "  </thead>\n",
       "  <tbody>\n",
       "    <tr>\n",
       "      <th>89</th>\n",
       "      <td>Toyota</td>\n",
       "      <td>Vitz</td>\n",
       "      <td>Multan</td>\n",
       "      <td>26.00</td>\n",
       "      <td>2018</td>\n",
       "      <td>30,000</td>\n",
       "      <td>Petrol</td>\n",
       "      <td>1000</td>\n",
       "      <td>Automatic</td>\n",
       "    </tr>\n",
       "    <tr>\n",
       "      <th>1870</th>\n",
       "      <td>Suzuki</td>\n",
       "      <td>Cultus</td>\n",
       "      <td>Islamabad</td>\n",
       "      <td>6.20</td>\n",
       "      <td>2003</td>\n",
       "      <td>75,000</td>\n",
       "      <td>CNG</td>\n",
       "      <td>1000</td>\n",
       "      <td>Manual</td>\n",
       "    </tr>\n",
       "    <tr>\n",
       "      <th>1663</th>\n",
       "      <td>Suzuki</td>\n",
       "      <td>Cultus</td>\n",
       "      <td>Karachi</td>\n",
       "      <td>12.55</td>\n",
       "      <td>2016</td>\n",
       "      <td>70,000</td>\n",
       "      <td>Petrol</td>\n",
       "      <td>1000</td>\n",
       "      <td>Manual</td>\n",
       "    </tr>\n",
       "    <tr>\n",
       "      <th>979</th>\n",
       "      <td>Toyota</td>\n",
       "      <td>Prado</td>\n",
       "      <td>Islamabad</td>\n",
       "      <td>79.00</td>\n",
       "      <td>2007</td>\n",
       "      <td>74,000</td>\n",
       "      <td>Petrol</td>\n",
       "      <td>2700</td>\n",
       "      <td>Automatic</td>\n",
       "    </tr>\n",
       "    <tr>\n",
       "      <th>1347</th>\n",
       "      <td>Suzuki</td>\n",
       "      <td>Alto</td>\n",
       "      <td>Islamabad</td>\n",
       "      <td>10.00</td>\n",
       "      <td>2012</td>\n",
       "      <td>77,000</td>\n",
       "      <td>Petrol</td>\n",
       "      <td>1000</td>\n",
       "      <td>Manual</td>\n",
       "    </tr>\n",
       "    <tr>\n",
       "      <th>...</th>\n",
       "      <td>...</td>\n",
       "      <td>...</td>\n",
       "      <td>...</td>\n",
       "      <td>...</td>\n",
       "      <td>...</td>\n",
       "      <td>...</td>\n",
       "      <td>...</td>\n",
       "      <td>...</td>\n",
       "      <td>...</td>\n",
       "    </tr>\n",
       "    <tr>\n",
       "      <th>375</th>\n",
       "      <td>Toyota</td>\n",
       "      <td>Land</td>\n",
       "      <td>Karachi</td>\n",
       "      <td>4.55</td>\n",
       "      <td>2018</td>\n",
       "      <td>14,000</td>\n",
       "      <td>Petrol</td>\n",
       "      <td>4608</td>\n",
       "      <td>Automatic</td>\n",
       "    </tr>\n",
       "    <tr>\n",
       "      <th>1458</th>\n",
       "      <td>Suzuki</td>\n",
       "      <td>Swift</td>\n",
       "      <td>Islamabad</td>\n",
       "      <td>12.78</td>\n",
       "      <td>2011</td>\n",
       "      <td>115,000</td>\n",
       "      <td>Petrol</td>\n",
       "      <td>1300</td>\n",
       "      <td>Manual</td>\n",
       "    </tr>\n",
       "    <tr>\n",
       "      <th>235</th>\n",
       "      <td>Toyota</td>\n",
       "      <td>Corolla</td>\n",
       "      <td>Karachi</td>\n",
       "      <td>37.75</td>\n",
       "      <td>2018</td>\n",
       "      <td>47,000</td>\n",
       "      <td>Petrol</td>\n",
       "      <td>1800</td>\n",
       "      <td>Automatic</td>\n",
       "    </tr>\n",
       "    <tr>\n",
       "      <th>1308</th>\n",
       "      <td>Suzuki</td>\n",
       "      <td>Alto</td>\n",
       "      <td>Lahore</td>\n",
       "      <td>14.20</td>\n",
       "      <td>2021</td>\n",
       "      <td>1</td>\n",
       "      <td>Petrol</td>\n",
       "      <td>660</td>\n",
       "      <td>Manual</td>\n",
       "    </tr>\n",
       "    <tr>\n",
       "      <th>895</th>\n",
       "      <td>Toyota</td>\n",
       "      <td>Prado</td>\n",
       "      <td>Lahore</td>\n",
       "      <td>1.98</td>\n",
       "      <td>2014</td>\n",
       "      <td>36,000</td>\n",
       "      <td>Petrol</td>\n",
       "      <td>4000</td>\n",
       "      <td>Automatic</td>\n",
       "    </tr>\n",
       "  </tbody>\n",
       "</table>\n",
       "<p>100 rows × 9 columns</p>\n",
       "</div>"
      ],
      "text/plain": [
       "        make    model       city  price  year       km    type    cc  \\\n",
       "89    Toyota     Vitz     Multan  26.00  2018   30,000  Petrol  1000   \n",
       "1870  Suzuki   Cultus  Islamabad   6.20  2003   75,000     CNG  1000   \n",
       "1663  Suzuki   Cultus    Karachi  12.55  2016   70,000  Petrol  1000   \n",
       "979   Toyota    Prado  Islamabad  79.00  2007   74,000  Petrol  2700   \n",
       "1347  Suzuki     Alto  Islamabad  10.00  2012   77,000  Petrol  1000   \n",
       "...      ...      ...        ...    ...   ...      ...     ...   ...   \n",
       "375   Toyota     Land    Karachi   4.55  2018   14,000  Petrol  4608   \n",
       "1458  Suzuki    Swift  Islamabad  12.78  2011  115,000  Petrol  1300   \n",
       "235   Toyota  Corolla    Karachi  37.75  2018   47,000  Petrol  1800   \n",
       "1308  Suzuki     Alto     Lahore  14.20  2021        1  Petrol   660   \n",
       "895   Toyota    Prado     Lahore   1.98  2014   36,000  Petrol  4000   \n",
       "\n",
       "           mode  \n",
       "89    Automatic  \n",
       "1870     Manual  \n",
       "1663     Manual  \n",
       "979   Automatic  \n",
       "1347     Manual  \n",
       "...         ...  \n",
       "375   Automatic  \n",
       "1458     Manual  \n",
       "235   Automatic  \n",
       "1308     Manual  \n",
       "895   Automatic  \n",
       "\n",
       "[100 rows x 9 columns]"
      ]
     },
     "execution_count": 723,
     "metadata": {},
     "output_type": "execute_result"
    }
   ],
   "source": [
    "from sklearn.utils import shuffle\n",
    "df = shuffle(df)\n",
    "df.head(100)"
   ]
  },
  {
   "cell_type": "markdown",
   "id": "bf2b2b68",
   "metadata": {},
   "source": [
    "# Data analysis & Feature engineering"
   ]
  },
  {
   "cell_type": "markdown",
   "id": "4a794fa4",
   "metadata": {},
   "source": [
    "- Drop useless columns\n",
    "- Drop duplicates\n",
    "- Check null values & address them\n",
    "- Check if any empty values, Drop them\n",
    "- Check dtypes & convert into numeric if not\n",
    "- Encoding\n",
    "- Outliers removal\n",
    "- Multi-collinearity\n",
    "- Scaling\n",
    "- Splitting"
   ]
  },
  {
   "cell_type": "markdown",
   "id": "6f632465",
   "metadata": {},
   "source": [
    "# Useless Columns"
   ]
  },
  {
   "cell_type": "code",
   "execution_count": 724,
   "id": "c8c53cb4",
   "metadata": {},
   "outputs": [],
   "source": [
    "# No useless columns"
   ]
  },
  {
   "cell_type": "markdown",
   "id": "2831c35b",
   "metadata": {},
   "source": [
    "# Drop duplicates"
   ]
  },
  {
   "cell_type": "code",
   "execution_count": 725,
   "id": "4456b69a",
   "metadata": {},
   "outputs": [],
   "source": [
    "# df.drop_duplicates(inplace=True)"
   ]
  },
  {
   "cell_type": "markdown",
   "id": "dfbe2513",
   "metadata": {},
   "source": [
    "# Null values"
   ]
  },
  {
   "cell_type": "code",
   "execution_count": 726,
   "id": "4c032104",
   "metadata": {},
   "outputs": [
    {
     "data": {
      "text/plain": [
       "<AxesSubplot:>"
      ]
     },
     "execution_count": 726,
     "metadata": {},
     "output_type": "execute_result"
    },
    {
     "data": {
      "image/png": "[encoded data removed]",
      "text/plain": [
       "<Figure size 432x288 with 1 Axes>"
      ]
     },
     "metadata": {
      "needs_background": "light"
     },
     "output_type": "display_data"
    }
   ],
   "source": [
    "sns.heatmap(df.isnull(),yticklabels=False,cmap='viridis',cbar=False)"
   ]
  },
  {
   "cell_type": "code",
   "execution_count": 727,
   "id": "2824297a",
   "metadata": {},
   "outputs": [],
   "source": [
    "df.dropna(axis=0,inplace=True)"
   ]
  },
  {
   "cell_type": "code",
   "execution_count": 728,
   "id": "18e27ae2",
   "metadata": {},
   "outputs": [
    {
     "data": {
      "text/plain": [
       "make     0\n",
       "model    0\n",
       "city     0\n",
       "price    0\n",
       "year     0\n",
       "km       0\n",
       "type     0\n",
       "cc       0\n",
       "mode     0\n",
       "dtype: int64"
      ]
     },
     "execution_count": 728,
     "metadata": {},
     "output_type": "execute_result"
    }
   ],
   "source": [
    "df.isnull().sum()"
   ]
  },
  {
   "cell_type": "markdown",
   "id": "5ef54cc7",
   "metadata": {},
   "source": [
    "# Dtypes"
   ]
  },
  {
   "cell_type": "code",
   "execution_count": 729,
   "id": "76dac89e",
   "metadata": {},
   "outputs": [
    {
     "data": {
      "text/plain": [
       "make      object\n",
       "model     object\n",
       "city      object\n",
       "price    float64\n",
       "year       int64\n",
       "km        object\n",
       "type      object\n",
       "cc         int64\n",
       "mode      object\n",
       "dtype: object"
      ]
     },
     "execution_count": 729,
     "metadata": {},
     "output_type": "execute_result"
    }
   ],
   "source": [
    "df.dtypes"
   ]
  },
  {
   "cell_type": "code",
   "execution_count": 730,
   "id": "2f25ac03",
   "metadata": {},
   "outputs": [],
   "source": [
    "# KM\n",
    "df.km = df.km.str.replace(',', '')"
   ]
  },
  {
   "cell_type": "code",
   "execution_count": 731,
   "id": "792a9ca8",
   "metadata": {},
   "outputs": [],
   "source": [
    "df['km'] = pd.to_numeric(df['km'])"
   ]
  },
  {
   "cell_type": "markdown",
   "id": "af10c28a",
   "metadata": {},
   "source": [
    "# Outliers removal"
   ]
  },
  {
   "cell_type": "code",
   "execution_count": 732,
   "id": "0eb617fa",
   "metadata": {},
   "outputs": [
    {
     "data": {
      "text/plain": [
       "(2887, 10)"
      ]
     },
     "execution_count": 732,
     "metadata": {},
     "output_type": "execute_result"
    }
   ],
   "source": [
    "df['zscore'] = ( df.price - df.price.mean() ) / df.price.std()\n",
    "df.shape"
   ]
  },
  {
   "cell_type": "code",
   "execution_count": 733,
   "id": "6436090f",
   "metadata": {},
   "outputs": [
    {
     "data": {
      "text/html": [
       "<div>\n",
       "<style scoped>\n",
       "    .dataframe tbody tr th:only-of-type {\n",
       "        vertical-align: middle;\n",
       "    }\n",
       "\n",
       "    .dataframe tbody tr th {\n",
       "        vertical-align: top;\n",
       "    }\n",
       "\n",
       "    .dataframe thead th {\n",
       "        text-align: right;\n",
       "    }\n",
       "</style>\n",
       "<table border=\"1\" class=\"dataframe\">\n",
       "  <thead>\n",
       "    <tr style=\"text-align: right;\">\n",
       "      <th></th>\n",
       "      <th>make</th>\n",
       "      <th>model</th>\n",
       "      <th>city</th>\n",
       "      <th>price</th>\n",
       "      <th>year</th>\n",
       "      <th>km</th>\n",
       "      <th>type</th>\n",
       "      <th>cc</th>\n",
       "      <th>mode</th>\n",
       "      <th>zscore</th>\n",
       "    </tr>\n",
       "  </thead>\n",
       "  <tbody>\n",
       "    <tr>\n",
       "      <th>89</th>\n",
       "      <td>Toyota</td>\n",
       "      <td>Vitz</td>\n",
       "      <td>Multan</td>\n",
       "      <td>26.00</td>\n",
       "      <td>2018</td>\n",
       "      <td>30000</td>\n",
       "      <td>Petrol</td>\n",
       "      <td>1000</td>\n",
       "      <td>Automatic</td>\n",
       "      <td>0.241443</td>\n",
       "    </tr>\n",
       "    <tr>\n",
       "      <th>1663</th>\n",
       "      <td>Suzuki</td>\n",
       "      <td>Cultus</td>\n",
       "      <td>Karachi</td>\n",
       "      <td>12.55</td>\n",
       "      <td>2016</td>\n",
       "      <td>70000</td>\n",
       "      <td>Petrol</td>\n",
       "      <td>1000</td>\n",
       "      <td>Manual</td>\n",
       "      <td>-0.643131</td>\n",
       "    </tr>\n",
       "    <tr>\n",
       "      <th>1347</th>\n",
       "      <td>Suzuki</td>\n",
       "      <td>Alto</td>\n",
       "      <td>Islamabad</td>\n",
       "      <td>10.00</td>\n",
       "      <td>2012</td>\n",
       "      <td>77000</td>\n",
       "      <td>Petrol</td>\n",
       "      <td>1000</td>\n",
       "      <td>Manual</td>\n",
       "      <td>-0.810838</td>\n",
       "    </tr>\n",
       "    <tr>\n",
       "      <th>958</th>\n",
       "      <td>Toyota</td>\n",
       "      <td>Corolla</td>\n",
       "      <td>Karachi</td>\n",
       "      <td>28.50</td>\n",
       "      <td>2017</td>\n",
       "      <td>60000</td>\n",
       "      <td>Petrol</td>\n",
       "      <td>1600</td>\n",
       "      <td>Automatic</td>\n",
       "      <td>0.405862</td>\n",
       "    </tr>\n",
       "    <tr>\n",
       "      <th>1935</th>\n",
       "      <td>Suzuki</td>\n",
       "      <td>Swift</td>\n",
       "      <td>Sargodha</td>\n",
       "      <td>15.60</td>\n",
       "      <td>2012</td>\n",
       "      <td>128000</td>\n",
       "      <td>Petrol</td>\n",
       "      <td>1300</td>\n",
       "      <td>Automatic</td>\n",
       "      <td>-0.442540</td>\n",
       "    </tr>\n",
       "  </tbody>\n",
       "</table>\n",
       "</div>"
      ],
      "text/plain": [
       "        make    model       city  price  year      km    type    cc  \\\n",
       "89    Toyota     Vitz     Multan  26.00  2018   30000  Petrol  1000   \n",
       "1663  Suzuki   Cultus    Karachi  12.55  2016   70000  Petrol  1000   \n",
       "1347  Suzuki     Alto  Islamabad  10.00  2012   77000  Petrol  1000   \n",
       "958   Toyota  Corolla    Karachi  28.50  2017   60000  Petrol  1600   \n",
       "1935  Suzuki    Swift   Sargodha  15.60  2012  128000  Petrol  1300   \n",
       "\n",
       "           mode    zscore  \n",
       "89    Automatic  0.241443  \n",
       "1663     Manual -0.643131  \n",
       "1347     Manual -0.810838  \n",
       "958   Automatic  0.405862  \n",
       "1935  Automatic -0.442540  "
      ]
     },
     "execution_count": 733,
     "metadata": {},
     "output_type": "execute_result"
    }
   ],
   "source": [
    "df_no_outliers = df[(df.zscore>-1) & (df.zscore<1)]\n",
    "df_no_outliers.head()"
   ]
  },
  {
   "cell_type": "code",
   "execution_count": 734,
   "id": "a8e644e0",
   "metadata": {},
   "outputs": [
    {
     "name": "stderr",
     "output_type": "stream",
     "text": [
      "C:\\Users\\HP\\anaconda3\\lib\\site-packages\\pandas\\core\\frame.py:4308: SettingWithCopyWarning: \n",
      "A value is trying to be set on a copy of a slice from a DataFrame\n",
      "\n",
      "See the caveats in the documentation: https://pandas.pydata.org/pandas-docs/stable/user_guide/indexing.html#returning-a-view-versus-a-copy\n",
      "  return super().drop(\n"
     ]
    }
   ],
   "source": [
    "df_no_outliers.drop('zscore', inplace=True,axis=1)"
   ]
  },
  {
   "cell_type": "code",
   "execution_count": 735,
   "id": "533d4507",
   "metadata": {},
   "outputs": [
    {
     "data": {
      "text/plain": [
       "(2173, 9)"
      ]
     },
     "execution_count": 735,
     "metadata": {},
     "output_type": "execute_result"
    }
   ],
   "source": [
    "df_no_outliers.shape"
   ]
  },
  {
   "cell_type": "markdown",
   "id": "2384796c",
   "metadata": {},
   "source": [
    "# Split"
   ]
  },
  {
   "cell_type": "code",
   "execution_count": 736,
   "id": "b5658922",
   "metadata": {},
   "outputs": [],
   "source": [
    "X = df_no_outliers.drop(['price'],axis=1)\n",
    "y = df_no_outliers.price"
   ]
  },
  {
   "cell_type": "code",
   "execution_count": 737,
   "id": "2164a78d",
   "metadata": {},
   "outputs": [
    {
     "data": {
      "text/html": [
       "<div>\n",
       "<style scoped>\n",
       "    .dataframe tbody tr th:only-of-type {\n",
       "        vertical-align: middle;\n",
       "    }\n",
       "\n",
       "    .dataframe tbody tr th {\n",
       "        vertical-align: top;\n",
       "    }\n",
       "\n",
       "    .dataframe thead th {\n",
       "        text-align: right;\n",
       "    }\n",
       "</style>\n",
       "<table border=\"1\" class=\"dataframe\">\n",
       "  <thead>\n",
       "    <tr style=\"text-align: right;\">\n",
       "      <th></th>\n",
       "      <th>make</th>\n",
       "      <th>model</th>\n",
       "      <th>city</th>\n",
       "      <th>year</th>\n",
       "      <th>km</th>\n",
       "      <th>type</th>\n",
       "      <th>cc</th>\n",
       "      <th>mode</th>\n",
       "    </tr>\n",
       "  </thead>\n",
       "  <tbody>\n",
       "    <tr>\n",
       "      <th>89</th>\n",
       "      <td>Toyota</td>\n",
       "      <td>Vitz</td>\n",
       "      <td>Multan</td>\n",
       "      <td>2018</td>\n",
       "      <td>30000</td>\n",
       "      <td>Petrol</td>\n",
       "      <td>1000</td>\n",
       "      <td>Automatic</td>\n",
       "    </tr>\n",
       "    <tr>\n",
       "      <th>1663</th>\n",
       "      <td>Suzuki</td>\n",
       "      <td>Cultus</td>\n",
       "      <td>Karachi</td>\n",
       "      <td>2016</td>\n",
       "      <td>70000</td>\n",
       "      <td>Petrol</td>\n",
       "      <td>1000</td>\n",
       "      <td>Manual</td>\n",
       "    </tr>\n",
       "    <tr>\n",
       "      <th>1347</th>\n",
       "      <td>Suzuki</td>\n",
       "      <td>Alto</td>\n",
       "      <td>Islamabad</td>\n",
       "      <td>2012</td>\n",
       "      <td>77000</td>\n",
       "      <td>Petrol</td>\n",
       "      <td>1000</td>\n",
       "      <td>Manual</td>\n",
       "    </tr>\n",
       "    <tr>\n",
       "      <th>958</th>\n",
       "      <td>Toyota</td>\n",
       "      <td>Corolla</td>\n",
       "      <td>Karachi</td>\n",
       "      <td>2017</td>\n",
       "      <td>60000</td>\n",
       "      <td>Petrol</td>\n",
       "      <td>1600</td>\n",
       "      <td>Automatic</td>\n",
       "    </tr>\n",
       "    <tr>\n",
       "      <th>1935</th>\n",
       "      <td>Suzuki</td>\n",
       "      <td>Swift</td>\n",
       "      <td>Sargodha</td>\n",
       "      <td>2012</td>\n",
       "      <td>128000</td>\n",
       "      <td>Petrol</td>\n",
       "      <td>1300</td>\n",
       "      <td>Automatic</td>\n",
       "    </tr>\n",
       "    <tr>\n",
       "      <th>...</th>\n",
       "      <td>...</td>\n",
       "      <td>...</td>\n",
       "      <td>...</td>\n",
       "      <td>...</td>\n",
       "      <td>...</td>\n",
       "      <td>...</td>\n",
       "      <td>...</td>\n",
       "      <td>...</td>\n",
       "    </tr>\n",
       "    <tr>\n",
       "      <th>1145</th>\n",
       "      <td>Suzuki</td>\n",
       "      <td>Swift</td>\n",
       "      <td>Islamabad</td>\n",
       "      <td>2014</td>\n",
       "      <td>160000</td>\n",
       "      <td>Petrol</td>\n",
       "      <td>1300</td>\n",
       "      <td>Automatic</td>\n",
       "    </tr>\n",
       "    <tr>\n",
       "      <th>1199</th>\n",
       "      <td>Suzuki</td>\n",
       "      <td>Wagon</td>\n",
       "      <td>Rawalpindi</td>\n",
       "      <td>2017</td>\n",
       "      <td>53000</td>\n",
       "      <td>Petrol</td>\n",
       "      <td>1000</td>\n",
       "      <td>Manual</td>\n",
       "    </tr>\n",
       "    <tr>\n",
       "      <th>371</th>\n",
       "      <td>Toyota</td>\n",
       "      <td>Corolla</td>\n",
       "      <td>Islamabad</td>\n",
       "      <td>2014</td>\n",
       "      <td>165000</td>\n",
       "      <td>Petrol</td>\n",
       "      <td>1300</td>\n",
       "      <td>Manual</td>\n",
       "    </tr>\n",
       "    <tr>\n",
       "      <th>795</th>\n",
       "      <td>Toyota</td>\n",
       "      <td>Corolla</td>\n",
       "      <td>Abbottabad</td>\n",
       "      <td>2013</td>\n",
       "      <td>200000</td>\n",
       "      <td>Petrol</td>\n",
       "      <td>1300</td>\n",
       "      <td>Manual</td>\n",
       "    </tr>\n",
       "    <tr>\n",
       "      <th>2749</th>\n",
       "      <td>Honda</td>\n",
       "      <td>Fit</td>\n",
       "      <td>Lahore</td>\n",
       "      <td>2018</td>\n",
       "      <td>109000</td>\n",
       "      <td>Hybrid</td>\n",
       "      <td>1500</td>\n",
       "      <td>Automatic</td>\n",
       "    </tr>\n",
       "  </tbody>\n",
       "</table>\n",
       "<p>2173 rows × 8 columns</p>\n",
       "</div>"
      ],
      "text/plain": [
       "        make    model        city  year      km    type    cc       mode\n",
       "89    Toyota     Vitz      Multan  2018   30000  Petrol  1000  Automatic\n",
       "1663  Suzuki   Cultus     Karachi  2016   70000  Petrol  1000     Manual\n",
       "1347  Suzuki     Alto   Islamabad  2012   77000  Petrol  1000     Manual\n",
       "958   Toyota  Corolla     Karachi  2017   60000  Petrol  1600  Automatic\n",
       "1935  Suzuki    Swift    Sargodha  2012  128000  Petrol  1300  Automatic\n",
       "...      ...      ...         ...   ...     ...     ...   ...        ...\n",
       "1145  Suzuki    Swift   Islamabad  2014  160000  Petrol  1300  Automatic\n",
       "1199  Suzuki    Wagon  Rawalpindi  2017   53000  Petrol  1000     Manual\n",
       "371   Toyota  Corolla   Islamabad  2014  165000  Petrol  1300     Manual\n",
       "795   Toyota  Corolla  Abbottabad  2013  200000  Petrol  1300     Manual\n",
       "2749   Honda      Fit      Lahore  2018  109000  Hybrid  1500  Automatic\n",
       "\n",
       "[2173 rows x 8 columns]"
      ]
     },
     "execution_count": 737,
     "metadata": {},
     "output_type": "execute_result"
    }
   ],
   "source": [
    "X"
   ]
  },
  {
   "cell_type": "code",
   "execution_count": 738,
   "id": "6e4d7c7b",
   "metadata": {},
   "outputs": [],
   "source": [
    "from sklearn.model_selection import train_test_split\n",
    "X_train, X_test, y_train, y_test = train_test_split(X,y,test_size=0.2,random_state=42)"
   ]
  },
  {
   "cell_type": "markdown",
   "id": "8a452d19",
   "metadata": {},
   "source": [
    "# Encoding"
   ]
  },
  {
   "cell_type": "code",
   "execution_count": 739,
   "id": "466ee33a",
   "metadata": {},
   "outputs": [],
   "source": [
    "from sklearn.preprocessing import OneHotEncoder\n",
    "from sklearn.compose import make_column_transformer\n",
    "from sklearn.pipeline import make_pipeline\n",
    "from sklearn.metrics import r2_score"
   ]
  },
  {
   "cell_type": "code",
   "execution_count": 740,
   "id": "469fd5ed",
   "metadata": {},
   "outputs": [
    {
     "data": {
      "text/plain": [
       "OneHotEncoder()"
      ]
     },
     "execution_count": 740,
     "metadata": {},
     "output_type": "execute_result"
    }
   ],
   "source": [
    "ohe=OneHotEncoder()\n",
    "ohe.fit(X[['make','model','city','type','mode']])"
   ]
  },
  {
   "cell_type": "code",
   "execution_count": 741,
   "id": "0a29ca54",
   "metadata": {},
   "outputs": [],
   "source": [
    "# ohe.categories_"
   ]
  },
  {
   "cell_type": "code",
   "execution_count": 742,
   "id": "3b885563",
   "metadata": {},
   "outputs": [],
   "source": [
    "column_trans=make_column_transformer((OneHotEncoder(categories=ohe.categories_),['make','model','city','type','mode']),\n",
    "                                    remainder='passthrough')"
   ]
  },
  {
   "cell_type": "markdown",
   "id": "88c78c56",
   "metadata": {},
   "source": [
    "# Model building"
   ]
  },
  {
   "cell_type": "code",
   "execution_count": 743,
   "id": "ad980dbc",
   "metadata": {},
   "outputs": [],
   "source": [
    "from sklearn.linear_model import LinearRegression, Lasso, Ridge\n",
    "from sklearn.tree import DecisionTreeRegressor\n",
    "from sklearn.ensemble import RandomForestRegressor\n",
    "from sklearn.neighbors import KNeighborsRegressor\n",
    "\n",
    "linear = LinearRegression()\n",
    "\n",
    "lasso_with = Lasso(alpha=50, max_iter=100, tol=0.1)\n",
    "lasso_without = Lasso()\n",
    "\n",
    "ridge_with = Ridge(alpha=50, max_iter=100, tol=0.1)\n",
    "ridge_without = Ridge()\n",
    "\n",
    "dt = DecisionTreeRegressor()\n",
    "rf = RandomForestRegressor(n_estimators=7)\n",
    "knn = KNeighborsRegressor(n_neighbors=1)"
   ]
  },
  {
   "cell_type": "code",
   "execution_count": 744,
   "id": "c9ac15c0",
   "metadata": {},
   "outputs": [],
   "source": [
    "pipe=make_pipeline(column_trans,rf)"
   ]
  },
  {
   "cell_type": "code",
   "execution_count": 745,
   "id": "c910016c",
   "metadata": {},
   "outputs": [
    {
     "name": "stdout",
     "output_type": "stream",
     "text": [
      "\n"
     ]
    }
   ],
   "source": [
    "pipe.fit(X_train,y_train)\n",
    "print()"
   ]
  },
  {
   "cell_type": "markdown",
   "id": "dc71a42a",
   "metadata": {},
   "source": [
    "# Evaluation"
   ]
  },
  {
   "cell_type": "code",
   "execution_count": 746,
   "id": "afa6efa1",
   "metadata": {},
   "outputs": [
    {
     "data": {
      "text/plain": [
       "0.9855917504614647"
      ]
     },
     "execution_count": 746,
     "metadata": {},
     "output_type": "execute_result"
    }
   ],
   "source": [
    "pipe.score(X_train,y_train)"
   ]
  },
  {
   "cell_type": "code",
   "execution_count": 747,
   "id": "b3573a68",
   "metadata": {},
   "outputs": [
    {
     "data": {
      "text/plain": [
       "0.9370220425242786"
      ]
     },
     "execution_count": 747,
     "metadata": {},
     "output_type": "execute_result"
    }
   ],
   "source": [
    "pipe.score(X_test,y_test)"
   ]
  },
  {
   "cell_type": "code",
   "execution_count": 748,
   "id": "724edd8d",
   "metadata": {},
   "outputs": [
    {
     "data": {
      "text/html": [
       "<div>\n",
       "<style scoped>\n",
       "    .dataframe tbody tr th:only-of-type {\n",
       "        vertical-align: middle;\n",
       "    }\n",
       "\n",
       "    .dataframe tbody tr th {\n",
       "        vertical-align: top;\n",
       "    }\n",
       "\n",
       "    .dataframe thead th {\n",
       "        text-align: right;\n",
       "    }\n",
       "</style>\n",
       "<table border=\"1\" class=\"dataframe\">\n",
       "  <thead>\n",
       "    <tr style=\"text-align: right;\">\n",
       "      <th></th>\n",
       "      <th>make</th>\n",
       "      <th>model</th>\n",
       "      <th>city</th>\n",
       "      <th>year</th>\n",
       "      <th>km</th>\n",
       "      <th>type</th>\n",
       "      <th>cc</th>\n",
       "      <th>mode</th>\n",
       "    </tr>\n",
       "  </thead>\n",
       "  <tbody>\n",
       "    <tr>\n",
       "      <th>517</th>\n",
       "      <td>Toyota</td>\n",
       "      <td>Passo</td>\n",
       "      <td>Lahore</td>\n",
       "      <td>2015</td>\n",
       "      <td>75000</td>\n",
       "      <td>Petrol</td>\n",
       "      <td>1000</td>\n",
       "      <td>Automatic</td>\n",
       "    </tr>\n",
       "    <tr>\n",
       "      <th>2403</th>\n",
       "      <td>Honda</td>\n",
       "      <td>City</td>\n",
       "      <td>Lahore</td>\n",
       "      <td>2013</td>\n",
       "      <td>79192</td>\n",
       "      <td>Petrol</td>\n",
       "      <td>1300</td>\n",
       "      <td>Manual</td>\n",
       "    </tr>\n",
       "    <tr>\n",
       "      <th>582</th>\n",
       "      <td>Toyota</td>\n",
       "      <td>Aqua</td>\n",
       "      <td>Islamabad</td>\n",
       "      <td>2015</td>\n",
       "      <td>83000</td>\n",
       "      <td>Hybrid</td>\n",
       "      <td>1500</td>\n",
       "      <td>Automatic</td>\n",
       "    </tr>\n",
       "    <tr>\n",
       "      <th>2540</th>\n",
       "      <td>Honda</td>\n",
       "      <td>City</td>\n",
       "      <td>Islamabad</td>\n",
       "      <td>2019</td>\n",
       "      <td>14500</td>\n",
       "      <td>Petrol</td>\n",
       "      <td>1500</td>\n",
       "      <td>Automatic</td>\n",
       "    </tr>\n",
       "    <tr>\n",
       "      <th>2106</th>\n",
       "      <td>Honda</td>\n",
       "      <td>City</td>\n",
       "      <td>Islamabad</td>\n",
       "      <td>2019</td>\n",
       "      <td>23920</td>\n",
       "      <td>Petrol</td>\n",
       "      <td>1500</td>\n",
       "      <td>Automatic</td>\n",
       "    </tr>\n",
       "  </tbody>\n",
       "</table>\n",
       "</div>"
      ],
      "text/plain": [
       "        make  model       city  year     km    type    cc       mode\n",
       "517   Toyota  Passo     Lahore  2015  75000  Petrol  1000  Automatic\n",
       "2403   Honda   City     Lahore  2013  79192  Petrol  1300     Manual\n",
       "582   Toyota   Aqua  Islamabad  2015  83000  Hybrid  1500  Automatic\n",
       "2540   Honda   City  Islamabad  2019  14500  Petrol  1500  Automatic\n",
       "2106   Honda   City  Islamabad  2019  23920  Petrol  1500  Automatic"
      ]
     },
     "execution_count": 748,
     "metadata": {},
     "output_type": "execute_result"
    }
   ],
   "source": [
    "X_test[15:20]"
   ]
  },
  {
   "cell_type": "code",
   "execution_count": 749,
   "id": "d5a106d3",
   "metadata": {},
   "outputs": [
    {
     "data": {
      "text/plain": [
       "517     20.50\n",
       "2403    19.50\n",
       "582     28.50\n",
       "2540    28.35\n",
       "2106    29.50\n",
       "Name: price, dtype: float64"
      ]
     },
     "execution_count": 749,
     "metadata": {},
     "output_type": "execute_result"
    }
   ],
   "source": [
    "y_test[15:20]"
   ]
  },
  {
   "cell_type": "code",
   "execution_count": 750,
   "id": "49c16f11",
   "metadata": {},
   "outputs": [
    {
     "data": {
      "text/plain": [
       "array([16.64285714])"
      ]
     },
     "execution_count": 750,
     "metadata": {},
     "output_type": "execute_result"
    }
   ],
   "source": [
    "pipe.predict(pd.DataFrame(columns=['make','model','city','year','km','type','cc','mode'],data=np.array(['Suzuki','Every','Gujranwala',2021,108000,'Petrol',660,'Manual']).reshape(1,8)))"
   ]
  },
  {
   "cell_type": "markdown",
   "id": "befbc912",
   "metadata": {},
   "source": [
    "# Conclusion"
   ]
  },
  {
   "cell_type": "markdown",
   "id": "3d27fe66",
   "metadata": {},
   "source": [
    "- Linear : 88/84\n",
    "- Lasso with: 30/34\n",
    "- Lasso  : 62/65\n",
    "- Ridge with : 7/7\n",
    "- Ridge : 30/35\n",
    "- decision : 99/89\n",
    "- Random : 98/92\n",
    "- KNN : 99/43"
   ]
  },
  {
   "cell_type": "markdown",
   "id": "62050c61",
   "metadata": {},
   "source": [
    "# Exporting"
   ]
  },
  {
   "cell_type": "code",
   "execution_count": 751,
   "id": "0d1e2c32",
   "metadata": {},
   "outputs": [],
   "source": [
    "import pickle\n",
    "pickle.dump(pipe,open('RandomForest.pkl','wb'))"
   ]
  },
  {
   "cell_type": "code",
   "execution_count": 752,
   "id": "72d83d69",
   "metadata": {},
   "outputs": [],
   "source": [
    "address = open(\"RandomForest.pkl\", \"rb\")\n",
    "model = pickle.load(address)"
   ]
  },
  {
   "cell_type": "code",
   "execution_count": 753,
   "id": "0e6aace5",
   "metadata": {},
   "outputs": [
    {
     "data": {
      "text/plain": [
       "array([10.02142857])"
      ]
     },
     "execution_count": 753,
     "metadata": {},
     "output_type": "execute_result"
    }
   ],
   "source": [
    "model.predict(pd.DataFrame(columns=['make','model','city','year','km','type','cc','mode'],data=np.array(['Suzuki','Mehran','Karachi',1995,10000,'Petrol',800,'Manual']).reshape(1,8)))"
   ]
  }
 ],
 "metadata": {
  "kernelspec": {
   "display_name": "Python 3",
   "language": "python",
   "name": "python3"
  },
  "language_info": {
   "codemirror_mode": {
    "name": "ipython",
    "version": 3
   },
   "file_extension": ".py",
   "mimetype": "text/x-python",
   "name": "python",
   "nbconvert_exporter": "python",
   "pygments_lexer": "ipython3",
   "version": "3.8.8"
  }
 },
 "nbformat": 4,
 "nbformat_minor": 5
}
